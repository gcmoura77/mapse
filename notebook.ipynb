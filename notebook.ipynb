{
 "cells": [
  {
   "cell_type": "code",
   "execution_count": 6,
   "metadata": {},
   "outputs": [
    {
     "data": {
      "text/plain": [
       "list"
      ]
     },
     "execution_count": 6,
     "metadata": {},
     "output_type": "execute_result"
    }
   ],
   "source": [
    "import os\n",
    "from pathlib import Path\n",
    "\n",
    "BASE_DIR = \"aqui\"\n",
    "UI_TEMPLATES = os.path.join(BASE_DIR, 'templates')\n",
    "\n",
    "UI_TEMPLATES = [UI_TEMPLATES, 'outro']\n",
    "\n",
    "type(UI_TEMPLATES)"
   ]
  },
  {
   "cell_type": "code",
   "execution_count": 7,
   "metadata": {},
   "outputs": [
    {
     "name": "stdout",
     "output_type": "stream",
     "text": [
      "2024-06-15 10:00:00\n",
      "2024-06-15 10:00:00-03:00\n",
      "2024-06-15 15:00:00+02:00\n",
      "1:00:00\n",
      "0:00:00\n"
     ]
    }
   ],
   "source": [
    "from datetime import datetime\n",
    "import pytz\n",
    "\n",
    "texto_data = '15/06/2024 10:00'\n",
    "\n",
    "# transforma um string para o formato data, os códigos da formatação estão na documentação do próprio Python\n",
    "# formato naive, sem informação do fuso horário para ter a informação, usar a biblioteca pytz\n",
    "dataformatada = datetime.strptime(texto_data, \"%d/%m/%Y %H:%M\") \n",
    "\n",
    "print(dataformatada)\n",
    "\n",
    "fuso_horario = pytz.timezone(\"America/Sao_Paulo\")\n",
    "\n",
    "minha_data_com_fuso = fuso_horario.localize(dataformatada)\n",
    "\n",
    "print(minha_data_com_fuso)\n",
    "\n",
    "# converter para outro fuso\n",
    "novo_fuso = pytz.timezone(\"Europe/Paris\")\n",
    "minha_data_novo_fuso = minha_data_com_fuso.astimezone(novo_fuso)\n",
    "\n",
    "print(minha_data_novo_fuso)\n",
    "\n",
    "print(minha_data_novo_fuso.dst())\n",
    "print(minha_data_com_fuso.dst())\n"
   ]
  }
 ],
 "metadata": {
  "kernelspec": {
   "display_name": "django-material",
   "language": "python",
   "name": "python3"
  },
  "language_info": {
   "codemirror_mode": {
    "name": "ipython",
    "version": 3
   },
   "file_extension": ".py",
   "mimetype": "text/x-python",
   "name": "python",
   "nbconvert_exporter": "python",
   "pygments_lexer": "ipython3",
   "version": "3.10.12"
  }
 },
 "nbformat": 4,
 "nbformat_minor": 2
}
